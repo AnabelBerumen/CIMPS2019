{
  "nbformat": 4,
  "nbformat_minor": 0,
  "metadata": {
    "colab": {
      "name": "Training a Neuron",
      "provenance": [],
      "collapsed_sections": [],
      "include_colab_link": true
    },
    "kernelspec": {
      "name": "python3",
      "display_name": "Python 3"
    }
  },
  "cells": [
    {
      "cell_type": "markdown",
      "metadata": {
        "id": "view-in-github",
        "colab_type": "text"
      },
      "source": [
        "<a href=\"https://colab.research.google.com/github/AnabelBerumen/CIMPS2019/blob/master/notebooks/Training%20a%20Neuron.ipynb\" target=\"_parent\"><img src=\"https://colab.research.google.com/assets/colab-badge.svg\" alt=\"Open In Colab\"/></a>"
      ]
    },
    {
      "cell_type": "markdown",
      "metadata": {
        "id": "HDRnLhM2GOTT",
        "colab_type": "text"
      },
      "source": [
        "> ### RIIAA 2.0 – Workshop \n",
        "> **Deep Learning as a Service** <br>\n",
        "> **Instructor:** [Rodolfo Ferro](https://rodolfoferro.xyz) <br>\n",
        "> **Email:** <ferro@cimat.mx> <br>\n",
        "> **Twitter:** <https://twitter.com/FerroRodolfo/> <br>\n",
        "> **GitHub:** <https://github.com/RodolfoFerro/> <br>"
      ]
    },
    {
      "cell_type": "markdown",
      "metadata": {
        "id": "yd3I-c_f9Hdy",
        "colab_type": "text"
      },
      "source": [
        "# How the training works\n",
        "\n",
        "Along this notebook we'll explain how a single neuron can be trained to make a prediction. \n",
        "\n",
        "For this problem we will build a simple perceptron, as proposed by [McCulloch & Pitts](https://es.wikipedia.org/wiki/Neurona_de_McCulloch-Pitts), using the [Sigmoid function](https://en.wikipedia.org/wiki/Sigmoid_function).\n",
        "\n",
        "\n",
        "### Problem statement:\n",
        "\n",
        "We want to show a simple neuron a set of examples so it can learn how a function behaves. The set of examples is the following:\n",
        "\n",
        "- `(1, 0)` should return `1`.\n",
        "- `(0, 1)` should return `1`.\n",
        "- `(0, 0)` should return `0`.\n",
        "\n",
        "So, if we input the neuron the value of `(1, 1)`, it should be able to predict the number `1`.\n",
        "\n",
        "##### (Can you guess the function?)\n",
        "\n",
        "> #### What do we need to do?\n",
        "> Program and train a neuron to make predictions.\n",
        ">\n",
        "> Specifically, we are going to do the following:\n",
        "> - Construct the class and its constructor\n",
        "> - Define the Sigmoid function and its derivative\n",
        "> - Define the number of epochs for training\n",
        "> - Solve the problem and predict the value for the desired input\n",
        "\n",
        "\n",
        "## The neuron structure\n",
        "\n",
        "The following image describes a single neuron and how we will need to program the main structure. The activation function will be the Sigmoid function:\n",
        "\n",
        "<center>\n",
        "    <img width=\"50%\" src=\"https://camo.githubusercontent.com/0e433317a51ea67fb061925026ed3c1c3692cb35/68747470733a2f2f696e7369676874732e7365692e636d752e6564752f7365695f626c6f672f73657374696c6c695f646565706c6561726e696e675f6172746966696369616c6e6575726f6e332e706e67\">\n",
        "</center>"
      ]
    },
    {
      "cell_type": "code",
      "metadata": {
        "id": "1fmJgbx29Gur",
        "colab_type": "code",
        "colab": {}
      },
      "source": [
        "import numpy as np\n",
        "\n",
        "\n",
        "class sigmoid_neuron():\n",
        "    def __init__(self, n):\n",
        "        \"\"\"Constructor of the class.\"\"\"\n",
        "        np.random.seed(123)\n",
        "        self.synaptic_weights = 2 * np.random.random((n, 1)) - 1\n",
        "\n",
        "    def __sigmoid(self, x):\n",
        "        \"\"\"Sigmoid function.\"\"\"\n",
        "        # TODO.\n",
        "        return 1 / (1+ np.exp(-x))\n",
        "\n",
        "    def __sigmoid_derivative(self, x):\n",
        "        \"\"\"Derivative of the Sigmoid function.\"\"\"\n",
        "        # TODO.\n",
        "        return x * (1 + x)\n",
        "\n",
        "    def train(self, training_inputs, training_output, iterations):\n",
        "        \"\"\"Training function.\"\"\"\n",
        "        for iteration in range(iterations):\n",
        "            output = self.predict(training_inputs)\n",
        "            error = training_output.reshape((len(training_inputs), 1)) - output\n",
        "            adjustment = np.dot(training_inputs.T, error *\n",
        "                                self.__sigmoid_derivative(output))\n",
        "            self.synaptic_weights += adjustment\n",
        "\n",
        "    def predict(self, inputs):\n",
        "        \"\"\"Prediction function.\"\"\"\n",
        "        return self.__sigmoid(np.dot(inputs, self.synaptic_weights))"
      ],
      "execution_count": 0,
      "outputs": []
    },
    {
      "cell_type": "markdown",
      "metadata": {
        "id": "jZ6TijET_uzx",
        "colab_type": "text"
      },
      "source": [
        "## Generating the samples\n",
        "\n",
        "We are now able to generate a list of examples based on the problem description."
      ]
    },
    {
      "cell_type": "code",
      "metadata": {
        "id": "fvDa90SR-tNd",
        "colab_type": "code",
        "colab": {}
      },
      "source": [
        "# Training samples:\n",
        "input_values = [(0,0), (1.0),(0,1)]   # TODO. Define the input values as a list of tuples.\n",
        "output_values = [0,1,1]  # TODO. Define the desired outputs.\n",
        "\n",
        "training_inputs = np.array(input_values)\n",
        "training_output = np.array(output_values).T.reshape((3, 1))"
      ],
      "execution_count": 0,
      "outputs": []
    },
    {
      "cell_type": "markdown",
      "metadata": {
        "id": "BTWzHhSB_6HD",
        "colab_type": "text"
      },
      "source": [
        "## Training the neuron\n",
        "\n",
        "To do the training, we will first define a neuron. By default it will contain random weights (since it has not been trained yet):"
      ]
    },
    {
      "cell_type": "code",
      "metadata": {
        "id": "tU0jOh12AYSw",
        "colab_type": "code",
        "colab": {
          "base_uri": "https://localhost:8080/",
          "height": 72
        },
        "outputId": "cdb0d466-9a72-463d-cd1d-b259a06a5700"
      },
      "source": [
        "# Initialize Sigmoid Neuron:\n",
        "neuron = sigmoid_neuron(2)\n",
        "print(\"Initial random weights:\")\n",
        "neuron.synaptic_weights"
      ],
      "execution_count": 7,
      "outputs": [
        {
          "output_type": "stream",
          "text": [
            "Initial random weights:\n"
          ],
          "name": "stdout"
        },
        {
          "output_type": "execute_result",
          "data": {
            "text/plain": [
              "array([[ 0.39293837],\n",
              "       [-0.42772133]])"
            ]
          },
          "metadata": {
            "tags": []
          },
          "execution_count": 7
        }
      ]
    },
    {
      "cell_type": "markdown",
      "metadata": {
        "id": "9c7KPHfZBHjW",
        "colab_type": "text"
      },
      "source": [
        "Now, let's train the neuron and see how the synaptic wheights have changed:"
      ]
    },
    {
      "cell_type": "code",
      "metadata": {
        "id": "t_fYh762BOBb",
        "colab_type": "code",
        "colab": {
          "base_uri": "https://localhost:8080/",
          "height": 395
        },
        "outputId": "40724be2-9926-419a-c385-e573a8272c67"
      },
      "source": [
        "# TODO.\n",
        "# We can modify the number of epochs to see how it performs.\n",
        "epochs = 1\n",
        "\n",
        "# We train the neuron a number of epochs:\n",
        "neuron.train(training_inputs, training_output, epochs)\n",
        "print(\"New synaptic weights after training: \")\n",
        "neuron.synaptic_weights"
      ],
      "execution_count": 8,
      "outputs": [
        {
          "output_type": "error",
          "ename": "ValueError",
          "evalue": "ignored",
          "traceback": [
            "\u001b[0;31m---------------------------------------------------------------------------\u001b[0m",
            "\u001b[0;31mValueError\u001b[0m                                Traceback (most recent call last)",
            "\u001b[0;32m<ipython-input-8-3b7b442bd7a4>\u001b[0m in \u001b[0;36m<module>\u001b[0;34m()\u001b[0m\n\u001b[1;32m      2\u001b[0m \u001b[0;34m\u001b[0m\u001b[0m\n\u001b[1;32m      3\u001b[0m \u001b[0;31m# We train the neuron a number of epochs:\u001b[0m\u001b[0;34m\u001b[0m\u001b[0;34m\u001b[0m\u001b[0;34m\u001b[0m\u001b[0m\n\u001b[0;32m----> 4\u001b[0;31m \u001b[0mneuron\u001b[0m\u001b[0;34m.\u001b[0m\u001b[0mtrain\u001b[0m\u001b[0;34m(\u001b[0m\u001b[0mtraining_inputs\u001b[0m\u001b[0;34m,\u001b[0m \u001b[0mtraining_output\u001b[0m\u001b[0;34m,\u001b[0m \u001b[0mepochs\u001b[0m\u001b[0;34m)\u001b[0m\u001b[0;34m\u001b[0m\u001b[0;34m\u001b[0m\u001b[0m\n\u001b[0m\u001b[1;32m      5\u001b[0m \u001b[0mprint\u001b[0m\u001b[0;34m(\u001b[0m\u001b[0;34m\"New synaptic weights after training: \"\u001b[0m\u001b[0;34m)\u001b[0m\u001b[0;34m\u001b[0m\u001b[0;34m\u001b[0m\u001b[0m\n\u001b[1;32m      6\u001b[0m \u001b[0mneuron\u001b[0m\u001b[0;34m.\u001b[0m\u001b[0msynaptic_weights\u001b[0m\u001b[0;34m\u001b[0m\u001b[0;34m\u001b[0m\u001b[0m\n",
            "\u001b[0;32m<ipython-input-5-8bdaabf6596f>\u001b[0m in \u001b[0;36mtrain\u001b[0;34m(self, training_inputs, training_output, iterations)\u001b[0m\n\u001b[1;32m     21\u001b[0m         \u001b[0;34m\"\"\"Training function.\"\"\"\u001b[0m\u001b[0;34m\u001b[0m\u001b[0;34m\u001b[0m\u001b[0m\n\u001b[1;32m     22\u001b[0m         \u001b[0;32mfor\u001b[0m \u001b[0miteration\u001b[0m \u001b[0;32min\u001b[0m \u001b[0mrange\u001b[0m\u001b[0;34m(\u001b[0m\u001b[0miterations\u001b[0m\u001b[0;34m)\u001b[0m\u001b[0;34m:\u001b[0m\u001b[0;34m\u001b[0m\u001b[0;34m\u001b[0m\u001b[0m\n\u001b[0;32m---> 23\u001b[0;31m             \u001b[0moutput\u001b[0m \u001b[0;34m=\u001b[0m \u001b[0mself\u001b[0m\u001b[0;34m.\u001b[0m\u001b[0mpredict\u001b[0m\u001b[0;34m(\u001b[0m\u001b[0mtraining_inputs\u001b[0m\u001b[0;34m)\u001b[0m\u001b[0;34m\u001b[0m\u001b[0;34m\u001b[0m\u001b[0m\n\u001b[0m\u001b[1;32m     24\u001b[0m             \u001b[0merror\u001b[0m \u001b[0;34m=\u001b[0m \u001b[0mtraining_output\u001b[0m\u001b[0;34m.\u001b[0m\u001b[0mreshape\u001b[0m\u001b[0;34m(\u001b[0m\u001b[0;34m(\u001b[0m\u001b[0mlen\u001b[0m\u001b[0;34m(\u001b[0m\u001b[0mtraining_inputs\u001b[0m\u001b[0;34m)\u001b[0m\u001b[0;34m,\u001b[0m \u001b[0;36m1\u001b[0m\u001b[0;34m)\u001b[0m\u001b[0;34m)\u001b[0m \u001b[0;34m-\u001b[0m \u001b[0moutput\u001b[0m\u001b[0;34m\u001b[0m\u001b[0;34m\u001b[0m\u001b[0m\n\u001b[1;32m     25\u001b[0m             adjustment = np.dot(training_inputs.T, error *\n",
            "\u001b[0;32m<ipython-input-5-8bdaabf6596f>\u001b[0m in \u001b[0;36mpredict\u001b[0;34m(self, inputs)\u001b[0m\n\u001b[1;32m     29\u001b[0m     \u001b[0;32mdef\u001b[0m \u001b[0mpredict\u001b[0m\u001b[0;34m(\u001b[0m\u001b[0mself\u001b[0m\u001b[0;34m,\u001b[0m \u001b[0minputs\u001b[0m\u001b[0;34m)\u001b[0m\u001b[0;34m:\u001b[0m\u001b[0;34m\u001b[0m\u001b[0;34m\u001b[0m\u001b[0m\n\u001b[1;32m     30\u001b[0m         \u001b[0;34m\"\"\"Prediction function.\"\"\"\u001b[0m\u001b[0;34m\u001b[0m\u001b[0;34m\u001b[0m\u001b[0m\n\u001b[0;32m---> 31\u001b[0;31m         \u001b[0;32mreturn\u001b[0m \u001b[0mself\u001b[0m\u001b[0;34m.\u001b[0m\u001b[0m__sigmoid\u001b[0m\u001b[0;34m(\u001b[0m\u001b[0mnp\u001b[0m\u001b[0;34m.\u001b[0m\u001b[0mdot\u001b[0m\u001b[0;34m(\u001b[0m\u001b[0minputs\u001b[0m\u001b[0;34m,\u001b[0m \u001b[0mself\u001b[0m\u001b[0;34m.\u001b[0m\u001b[0msynaptic_weights\u001b[0m\u001b[0;34m)\u001b[0m\u001b[0;34m)\u001b[0m\u001b[0;34m\u001b[0m\u001b[0;34m\u001b[0m\u001b[0m\n\u001b[0m",
            "\u001b[0;32m<__array_function__ internals>\u001b[0m in \u001b[0;36mdot\u001b[0;34m(*args, **kwargs)\u001b[0m\n",
            "\u001b[0;31mValueError\u001b[0m: shapes (3,) and (2,1) not aligned: 3 (dim 0) != 2 (dim 0)"
          ]
        }
      ]
    },
    {
      "cell_type": "markdown",
      "metadata": {
        "id": "2fTB5AydBjaN",
        "colab_type": "text"
      },
      "source": [
        "## Making predictions:"
      ]
    },
    {
      "cell_type": "code",
      "metadata": {
        "id": "y4fxHpoqBloW",
        "colab_type": "code",
        "colab": {
          "base_uri": "https://localhost:8080/",
          "height": 54
        },
        "outputId": "17d7e3c0-7837-4163-dde1-59a7b87b4b8d"
      },
      "source": [
        "# We predict to verify the performance:\n",
        "one_one = np.array((1, 1))\n",
        "print(\"Prediction for (1, 1): \")\n",
        "neuron.predict(one_one)"
      ],
      "execution_count": 9,
      "outputs": [
        {
          "output_type": "stream",
          "text": [
            "Prediction for (1, 1): \n"
          ],
          "name": "stdout"
        },
        {
          "output_type": "execute_result",
          "data": {
            "text/plain": [
              "array([0.49130514])"
            ]
          },
          "metadata": {
            "tags": []
          },
          "execution_count": 9
        }
      ]
    },
    {
      "cell_type": "code",
      "metadata": {
        "id": "ROp7MK2oBmiY",
        "colab_type": "code",
        "colab": {}
      },
      "source": [
        ""
      ],
      "execution_count": 0,
      "outputs": []
    }
  ]
}